{
  "nbformat": 4,
  "nbformat_minor": 0,
  "metadata": {
    "colab": {
      "provenance": [],
      "authorship_tag": "ABX9TyPJ8WZuL1XV23FOhdcBAmQz",
      "include_colab_link": true
    },
    "kernelspec": {
      "name": "python3",
      "display_name": "Python 3"
    },
    "language_info": {
      "name": "python"
    }
  },
  "cells": [
    {
      "cell_type": "markdown",
      "metadata": {
        "id": "view-in-github",
        "colab_type": "text"
      },
      "source": [
        "<a href=\"https://colab.research.google.com/github/Vedang21/pro-198/blob/main/pro_198.ipynb\" target=\"_parent\"><img src=\"https://colab.research.google.com/assets/colab-badge.svg\" alt=\"Open In Colab\"/></a>"
      ]
    },
    {
      "cell_type": "code",
      "execution_count": null,
      "metadata": {
        "colab": {
          "base_uri": "https://localhost:8080/"
        },
        "id": "T6v5Lu-Ycmfw",
        "outputId": "7572fd38-19a9-461b-a634-5472f1cdec33"
      },
      "outputs": [
        {
          "output_type": "stream",
          "name": "stdout",
          "text": [
            "Name of the CustomerABCDEFGHIJKLMNOPQRSTUVWXYZ\n",
            "Enter Cost Of Items And Quantity\n",
            "Item Cost : 1000\n",
            "Quantity: 5000\n",
            "Do You Want To Add More Items?(y/Y/n/N)y\n",
            "Enter Cost Of Items And Quantity\n",
            "Item Cost : 30000\n",
            "Quantity: 2000\n",
            "Do You Want To Add More Items?(y/Y/n/N)n\n",
            "Name==> ABCDEFGHIJKLMNOPQRSTUVWXYZ\n",
            "Total Bill Cost==> 65000000.0\n",
            "\n",
            "Thank You For Shopping With Us\n"
          ]
        }
      ],
      "source": [
        "while True:\n",
        "  Total=0\n",
        "  Customer_name=input(\"Name of the Customer\")\n",
        "  while True:\n",
        "    print(\"Enter Cost Of Items And Quantity\")\n",
        "    cost=float(input(\"Item Cost : \"))\n",
        "    Quantity=int(input(\"Quantity: \"))\n",
        "    Total+=cost*Quantity\n",
        "    repeat=input(\"Do You Want To Add More Items?(y/Y/n/N)\")\n",
        "    if repeat=='N'or repeat=='n':\n",
        "      break\n",
        "  print(\"Name==>\",Customer_name)\n",
        "  print(\"Total Bill Cost==>\",Total)\n",
        "  print(\"\")\n",
        "  print(\"Thank You For Shopping With Us\")\n"
      ]
    }
  ]
}